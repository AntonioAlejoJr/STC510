{
  "nbformat": 4,
  "nbformat_minor": 0,
  "metadata": {
    "colab": {
      "provenance": []
    },
    "kernelspec": {
      "name": "python3",
      "display_name": "Python 3"
    },
    "language_info": {
      "name": "python"
    }
  },
  "cells": [
    {
      "cell_type": "markdown",
      "source": [
        "**Antonio Alejo Module 1 Python for Data Wrangling Basics**"
      ],
      "metadata": {
        "id": "wTQGAp_wYEqG"
      }
    },
    {
      "cell_type": "code",
      "execution_count": 1,
      "metadata": {
        "id": "5z3NdXgrX1ye",
        "colab": {
          "base_uri": "https://localhost:8080/"
        },
        "outputId": "32b12b09-9540-4ff8-d5f6-611e2174a189"
      },
      "outputs": [
        {
          "output_type": "stream",
          "name": "stdout",
          "text": [
            "Collecting praw\n",
            "  Downloading praw-7.7.1-py3-none-any.whl (191 kB)\n",
            "\u001b[?25l     \u001b[90m━━━━━━━━━━━━━━━━━━━━━━━━━━━━━━━━━━━━━━━━\u001b[0m \u001b[32m0.0/191.0 kB\u001b[0m \u001b[31m?\u001b[0m eta \u001b[36m-:--:--\u001b[0m\r\u001b[2K     \u001b[91m━━━━━━━━━━━━━━━━━━━━━━━━━━━━━━━━━━━━━━\u001b[0m\u001b[91m╸\u001b[0m\u001b[90m━\u001b[0m \u001b[32m184.3/191.0 kB\u001b[0m \u001b[31m5.8 MB/s\u001b[0m eta \u001b[36m0:00:01\u001b[0m\r\u001b[2K     \u001b[90m━━━━━━━━━━━━━━━━━━━━━━━━━━━━━━━━━━━━━━━━\u001b[0m \u001b[32m191.0/191.0 kB\u001b[0m \u001b[31m4.8 MB/s\u001b[0m eta \u001b[36m0:00:00\u001b[0m\n",
            "\u001b[?25hCollecting prawcore<3,>=2.1 (from praw)\n",
            "  Downloading prawcore-2.4.0-py3-none-any.whl (17 kB)\n",
            "Collecting update-checker>=0.18 (from praw)\n",
            "  Downloading update_checker-0.18.0-py3-none-any.whl (7.0 kB)\n",
            "Requirement already satisfied: websocket-client>=0.54.0 in /usr/local/lib/python3.10/dist-packages (from praw) (1.7.0)\n",
            "Requirement already satisfied: requests<3.0,>=2.6.0 in /usr/local/lib/python3.10/dist-packages (from prawcore<3,>=2.1->praw) (2.31.0)\n",
            "Requirement already satisfied: charset-normalizer<4,>=2 in /usr/local/lib/python3.10/dist-packages (from requests<3.0,>=2.6.0->prawcore<3,>=2.1->praw) (3.3.2)\n",
            "Requirement already satisfied: idna<4,>=2.5 in /usr/local/lib/python3.10/dist-packages (from requests<3.0,>=2.6.0->prawcore<3,>=2.1->praw) (3.6)\n",
            "Requirement already satisfied: urllib3<3,>=1.21.1 in /usr/local/lib/python3.10/dist-packages (from requests<3.0,>=2.6.0->prawcore<3,>=2.1->praw) (2.0.7)\n",
            "Requirement already satisfied: certifi>=2017.4.17 in /usr/local/lib/python3.10/dist-packages (from requests<3.0,>=2.6.0->prawcore<3,>=2.1->praw) (2024.2.2)\n",
            "Installing collected packages: update-checker, prawcore, praw\n",
            "Successfully installed praw-7.7.1 prawcore-2.4.0 update-checker-0.18.0\n",
            "Collecting asyncpraw\n",
            "  Downloading asyncpraw-7.7.1-py3-none-any.whl (196 kB)\n",
            "\u001b[2K     \u001b[90m━━━━━━━━━━━━━━━━━━━━━━━━━━━━━━━━━━━━━━━━\u001b[0m \u001b[32m196.7/196.7 kB\u001b[0m \u001b[31m4.8 MB/s\u001b[0m eta \u001b[36m0:00:00\u001b[0m\n",
            "\u001b[?25hCollecting aiofiles<1 (from asyncpraw)\n",
            "  Downloading aiofiles-0.8.0-py3-none-any.whl (13 kB)\n",
            "Requirement already satisfied: aiohttp<4 in /usr/local/lib/python3.10/dist-packages (from asyncpraw) (3.9.3)\n",
            "Collecting aiosqlite<=0.17.0 (from asyncpraw)\n",
            "  Downloading aiosqlite-0.17.0-py3-none-any.whl (15 kB)\n",
            "Collecting asyncprawcore<3,>=2.1 (from asyncpraw)\n",
            "  Downloading asyncprawcore-2.4.0-py3-none-any.whl (19 kB)\n",
            "Requirement already satisfied: update-checker>=0.18 in /usr/local/lib/python3.10/dist-packages (from asyncpraw) (0.18.0)\n",
            "Requirement already satisfied: aiosignal>=1.1.2 in /usr/local/lib/python3.10/dist-packages (from aiohttp<4->asyncpraw) (1.3.1)\n",
            "Requirement already satisfied: attrs>=17.3.0 in /usr/local/lib/python3.10/dist-packages (from aiohttp<4->asyncpraw) (23.2.0)\n",
            "Requirement already satisfied: frozenlist>=1.1.1 in /usr/local/lib/python3.10/dist-packages (from aiohttp<4->asyncpraw) (1.4.1)\n",
            "Requirement already satisfied: multidict<7.0,>=4.5 in /usr/local/lib/python3.10/dist-packages (from aiohttp<4->asyncpraw) (6.0.5)\n",
            "Requirement already satisfied: yarl<2.0,>=1.0 in /usr/local/lib/python3.10/dist-packages (from aiohttp<4->asyncpraw) (1.9.4)\n",
            "Requirement already satisfied: async-timeout<5.0,>=4.0 in /usr/local/lib/python3.10/dist-packages (from aiohttp<4->asyncpraw) (4.0.3)\n",
            "Requirement already satisfied: typing_extensions>=3.7.2 in /usr/local/lib/python3.10/dist-packages (from aiosqlite<=0.17.0->asyncpraw) (4.9.0)\n",
            "Requirement already satisfied: requests>=2.3.0 in /usr/local/lib/python3.10/dist-packages (from update-checker>=0.18->asyncpraw) (2.31.0)\n",
            "Requirement already satisfied: charset-normalizer<4,>=2 in /usr/local/lib/python3.10/dist-packages (from requests>=2.3.0->update-checker>=0.18->asyncpraw) (3.3.2)\n",
            "Requirement already satisfied: idna<4,>=2.5 in /usr/local/lib/python3.10/dist-packages (from requests>=2.3.0->update-checker>=0.18->asyncpraw) (3.6)\n",
            "Requirement already satisfied: urllib3<3,>=1.21.1 in /usr/local/lib/python3.10/dist-packages (from requests>=2.3.0->update-checker>=0.18->asyncpraw) (2.0.7)\n",
            "Requirement already satisfied: certifi>=2017.4.17 in /usr/local/lib/python3.10/dist-packages (from requests>=2.3.0->update-checker>=0.18->asyncpraw) (2024.2.2)\n",
            "Installing collected packages: aiosqlite, aiofiles, asyncprawcore, asyncpraw\n",
            "Successfully installed aiofiles-0.8.0 aiosqlite-0.17.0 asyncpraw-7.7.1 asyncprawcore-2.4.0\n"
          ]
        }
      ],
      "source": [
        "!pip install praw\n",
        "!pip install asyncpraw"
      ]
    },
    {
      "cell_type": "code",
      "source": [
        "import asyncpraw\n",
        "import praw\n",
        "from datetime import datetime"
      ],
      "metadata": {
        "id": "w-nFGVA_YRI-"
      },
      "execution_count": 3,
      "outputs": []
    },
    {
      "cell_type": "code",
      "source": [
        "uname = 'tonyalejo33'\n",
        "upass = 'Isabella1!'\n",
        "app_id = '01r6wDLQmUWdHwnUaExo9w'\n",
        "app_secret = 'hD_FJs6KSanhWiP-CKFqmPZInvNlSg'"
      ],
      "metadata": {
        "id": "cG2t2E3SYUNE"
      },
      "execution_count": 4,
      "outputs": []
    },
    {
      "cell_type": "code",
      "source": [
        "reddit = asyncpraw.Reddit(user_agent = 'Heat in PHX (by /u/tonyalejo33)',\n",
        "                     client_id = app_id, client_secret = app_secret,\n",
        "                     username = uname, password = upass, check_for_async = False)"
      ],
      "metadata": {
        "id": "Z-QLCD8TYvhU"
      },
      "execution_count": 5,
      "outputs": []
    },
    {
      "cell_type": "code",
      "source": [
        "subreddit = await reddit.subreddit('Phoenix', fetch = True)"
      ],
      "metadata": {
        "id": "5jm-VHNcZUvy"
      },
      "execution_count": 6,
      "outputs": []
    },
    {
      "cell_type": "code",
      "source": [
        "async def is_recent(submission):\n",
        "    current_time = datetime.utcnow()\n",
        "    submission_time = datetime.utcfromtimestamp(submission.created_utc)\n",
        "    time_difference_seconds = (current_time - submission_time).total_seconds()\n",
        "    return time_difference_seconds < (72 * 3600)"
      ],
      "metadata": {
        "id": "YFhVTV5vjd8V"
      },
      "execution_count": 7,
      "outputs": []
    },
    {
      "cell_type": "code",
      "source": [
        "def contains_keywords(text):\n",
        "    keywords = ['cheese', 'pickles', 'buns', 'meat', 'sesame']\n",
        "    return any(keyword.lower() in text.lower() for keyword in keywords)"
      ],
      "metadata": {
        "id": "2MFVKd6rj5xv"
      },
      "execution_count": 8,
      "outputs": []
    },
    {
      "cell_type": "code",
      "source": [
        "async for submission in subreddit.hot(limit = 10):\n",
        "  if await is_recent(submission) and contains_keywords(submission.title):\n",
        "        print(submission.title)"
      ],
      "metadata": {
        "id": "nSw9M7mvZcZV"
      },
      "execution_count": 9,
      "outputs": []
    },
    {
      "cell_type": "code",
      "source": [
        "topiclist = []\n",
        "async for submission in subreddit.new(limit = 7):\n",
        "  topiclist.append(submission.id)"
      ],
      "metadata": {
        "id": "sqQAfEVRgwA2"
      },
      "execution_count": 10,
      "outputs": []
    },
    {
      "cell_type": "code",
      "source": [
        "topiclist"
      ],
      "metadata": {
        "colab": {
          "base_uri": "https://localhost:8080/"
        },
        "id": "fn-XcQjThHbE",
        "outputId": "e2660818-9602-4ebd-8578-cd7a2ea3d1ed"
      },
      "execution_count": 11,
      "outputs": [
        {
          "output_type": "execute_result",
          "data": {
            "text/plain": [
              "['1b2tly3', '1b2t1zd', '1b2sovy', '1b2qhf2', '1b2pc84', '1b2nxtp', '1b2nnk2']"
            ]
          },
          "metadata": {},
          "execution_count": 11
        }
      ]
    },
    {
      "cell_type": "code",
      "source": [
        "from time import sleep"
      ],
      "metadata": {
        "id": "AiSntwQOnnSY"
      },
      "execution_count": 12,
      "outputs": []
    },
    {
      "cell_type": "code",
      "source": [
        "with open('subfile.csv', 'w') as subfile, open('comfile.csv', 'w') as comfile:\n",
        "  for eachtopic in topiclist:\n",
        "\n",
        "    sleep(2)\n",
        "    submission = await reddit.submission(eachtopic)\n",
        "\n",
        "    lineout = eachtopic + ',\"'\n",
        "    lineout += submission.title + '\",'\n",
        "    lineout += submission.author.name + ','\n",
        "    lineout += str(submission.created_utc) + ','\n",
        "    lineout += str(submission.score) + '\\n'\n",
        "\n",
        "    print(lineout)\n",
        "    subfile.write(lineout)\n",
        "\n",
        "    submission.comments.replace_more(limit = None)\n",
        "    commentlist = submission.comments.list()\n",
        "\n",
        "    for eachcomment in commentlist:\n",
        "\n",
        "      sleep(1)\n",
        "\n",
        "      if isinstance(eachcomment, asyncpraw.models.MoreComments):\n",
        "            continue\n",
        "\n",
        "      if await is_recent(eachcomment) and contains_keywords(eachcomment.body):\n",
        "            lineout = eachcomment.id + ',\"'\n",
        "            lineout += eachcomment.body.replace('\\n', '/') + '\",'\n",
        "\n",
        "      if not eachcomment.author:\n",
        "        name = 'NoName'\n",
        "      else:\n",
        "        name = eachcomment.author.name\n",
        "      lineout += name + ','\n",
        "\n",
        "\n",
        "      lineout += str(eachcomment.created_utc) + ','\n",
        "      lineout += str(eachcomment.score) + ','\n",
        "      lineout += eachcomment.parent_id + ','\n",
        "      lineout += eachtopic + '\\n'\n",
        "\n",
        "      #print(lineout)\n",
        "      comfile.write(lineout)"
      ],
      "metadata": {
        "colab": {
          "base_uri": "https://localhost:8080/"
        },
        "id": "Cx_g5TS0hY-y",
        "outputId": "66c031c0-502a-40f5-f37e-0bd5bb408233"
      },
      "execution_count": 14,
      "outputs": [
        {
          "output_type": "stream",
          "name": "stdout",
          "text": [
            "1b2tly3,\"I’m staying 10 min north of Phoenix Art Museum and here for 4 days before surgery, what should I do? \",GoodMoriningVeitnam,1709187910.0,2\n",
            "\n"
          ]
        },
        {
          "output_type": "stream",
          "name": "stderr",
          "text": [
            "<ipython-input-14-25b9b59913ff>:16: RuntimeWarning: coroutine 'CommentForest.replace_more' was never awaited\n",
            "  submission.comments.replace_more(limit = None)\n",
            "RuntimeWarning: Enable tracemalloc to get the object allocation traceback\n"
          ]
        },
        {
          "output_type": "stream",
          "name": "stdout",
          "text": [
            "1b2t1zd,\"Need new fire alarm system installed, any recommendations?\",tbrmax,1709186022.0,0\n",
            "\n",
            "1b2sovy,\"Best place to shop antique stores for stained glass?\",rallruse,1709184806.0,2\n",
            "\n",
            "1b2qhf2,\"Easter brunch recommendation\",Ohparrothead,1709177771.0,0\n",
            "\n",
            "1b2pc84,\"Thinking Of Moving To Phoenix: Tell Me Everything About The Phoenix Area\",RegainingLife,1709174464.0,0\n",
            "\n",
            "1b2nxtp,\"Arizona is one of the states for the IRS’s new “Direct File” program. \",haikufive,1709170518.0,14\n",
            "\n",
            "1b2nnk2,\"Former top Phoenix prosecutor arrested on felony harassment charge (September 2023)\",RNAprimer,1709169695.0,21\n",
            "\n"
          ]
        }
      ]
    }
  ]
}