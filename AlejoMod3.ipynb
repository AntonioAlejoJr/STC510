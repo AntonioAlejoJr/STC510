{
 "cells": [
  {
   "cell_type": "markdown",
   "id": "5500f780",
   "metadata": {},
   "source": [
    "**STC 510 Module 3**"
   ]
  },
  {
   "cell_type": "code",
   "execution_count": 1,
   "id": "3106910d",
   "metadata": {},
   "outputs": [],
   "source": [
    "#import libraries\n",
    "import pandas as pd\n",
    "import matplotlib.pyplot as plt\n",
    "import numpy as np"
   ]
  },
  {
   "cell_type": "code",
   "execution_count": 2,
   "id": "080c70d0",
   "metadata": {},
   "outputs": [],
   "source": [
    "#import PHX crime data\n",
    "crime = pd.read_csv(r\"C:\\Users\\tonya\\Downloads\\crime-data_crime-data_crimestat.csv\", engine = 'python')"
   ]
  },
  {
   "cell_type": "code",
   "execution_count": 3,
   "id": "f992bfff",
   "metadata": {},
   "outputs": [
    {
     "name": "stdout",
     "output_type": "stream",
     "text": [
      "<class 'pandas.core.frame.DataFrame'>\n",
      "RangeIndex: 527580 entries, 0 to 527579\n",
      "Data columns (total 8 columns):\n",
      " #   Column              Non-Null Count   Dtype  \n",
      "---  ------              --------------   -----  \n",
      " 0   INC NUMBER          527580 non-null  object \n",
      " 1   OCCURRED ON         527161 non-null  object \n",
      " 2   OCCURRED TO         339743 non-null  object \n",
      " 3   UCR CRIME CATEGORY  527580 non-null  object \n",
      " 4   100 BLOCK ADDR      527580 non-null  object \n",
      " 5   ZIP                 527574 non-null  float64\n",
      " 6   PREMISE TYPE        524070 non-null  object \n",
      " 7   GRID                526141 non-null  object \n",
      "dtypes: float64(1), object(7)\n",
      "memory usage: 32.2+ MB\n"
     ]
    }
   ],
   "source": [
    "crime.info()"
   ]
  },
  {
   "cell_type": "code",
   "execution_count": 4,
   "id": "d9f6551c",
   "metadata": {
    "scrolled": true
   },
   "outputs": [
    {
     "data": {
      "text/html": [
       "<div>\n",
       "<style scoped>\n",
       "    .dataframe tbody tr th:only-of-type {\n",
       "        vertical-align: middle;\n",
       "    }\n",
       "\n",
       "    .dataframe tbody tr th {\n",
       "        vertical-align: top;\n",
       "    }\n",
       "\n",
       "    .dataframe thead th {\n",
       "        text-align: right;\n",
       "    }\n",
       "</style>\n",
       "<table border=\"1\" class=\"dataframe\">\n",
       "  <thead>\n",
       "    <tr style=\"text-align: right;\">\n",
       "      <th></th>\n",
       "      <th>INC NUMBER</th>\n",
       "      <th>OCCURRED ON</th>\n",
       "      <th>OCCURRED TO</th>\n",
       "      <th>UCR CRIME CATEGORY</th>\n",
       "      <th>100 BLOCK ADDR</th>\n",
       "      <th>ZIP</th>\n",
       "      <th>PREMISE TYPE</th>\n",
       "      <th>GRID</th>\n",
       "    </tr>\n",
       "  </thead>\n",
       "  <tbody>\n",
       "    <tr>\n",
       "      <th>0</th>\n",
       "      <td>201600000594484</td>\n",
       "      <td>11/01/2015  00:00</td>\n",
       "      <td>NaN</td>\n",
       "      <td>RAPE</td>\n",
       "      <td>13XX E ALMERIA RD</td>\n",
       "      <td>85006.0</td>\n",
       "      <td>SINGLE FAMILY HOUSE</td>\n",
       "      <td>BD30</td>\n",
       "    </tr>\n",
       "    <tr>\n",
       "      <th>1</th>\n",
       "      <td>201500002102327</td>\n",
       "      <td>11/01/2015  00:00</td>\n",
       "      <td>11/01/2015  09:00</td>\n",
       "      <td>LARCENY-THEFT</td>\n",
       "      <td>51XX N 15TH ST</td>\n",
       "      <td>85014.0</td>\n",
       "      <td>APARTMENT</td>\n",
       "      <td>BJ30</td>\n",
       "    </tr>\n",
       "    <tr>\n",
       "      <th>2</th>\n",
       "      <td>201500002168686</td>\n",
       "      <td>11/01/2015  00:00</td>\n",
       "      <td>11/11/2015  09:30</td>\n",
       "      <td>LARCENY-THEFT</td>\n",
       "      <td>14XX E HIGHLAND AVE</td>\n",
       "      <td>85014.0</td>\n",
       "      <td>PARKING LOT</td>\n",
       "      <td>BI30</td>\n",
       "    </tr>\n",
       "    <tr>\n",
       "      <th>3</th>\n",
       "      <td>201500002102668</td>\n",
       "      <td>11/01/2015  00:00</td>\n",
       "      <td>11/01/2015  11:50</td>\n",
       "      <td>MOTOR VEHICLE THEFT</td>\n",
       "      <td>69XX W WOOD ST</td>\n",
       "      <td>85043.0</td>\n",
       "      <td>SINGLE FAMILY HOUSE</td>\n",
       "      <td>AF12</td>\n",
       "    </tr>\n",
       "    <tr>\n",
       "      <th>4</th>\n",
       "      <td>201600000052855</td>\n",
       "      <td>11/01/2015  00:00</td>\n",
       "      <td>01/09/2016  00:00</td>\n",
       "      <td>MOTOR VEHICLE THEFT</td>\n",
       "      <td>N 43RD AVE &amp; W CACTUS RD</td>\n",
       "      <td>85029.0</td>\n",
       "      <td>SINGLE FAMILY HOUSE</td>\n",
       "      <td>DA19</td>\n",
       "    </tr>\n",
       "  </tbody>\n",
       "</table>\n",
       "</div>"
      ],
      "text/plain": [
       "        INC NUMBER        OCCURRED ON        OCCURRED TO   UCR CRIME CATEGORY  \\\n",
       "0  201600000594484  11/01/2015  00:00                NaN                 RAPE   \n",
       "1  201500002102327  11/01/2015  00:00  11/01/2015  09:00        LARCENY-THEFT   \n",
       "2  201500002168686  11/01/2015  00:00  11/11/2015  09:30        LARCENY-THEFT   \n",
       "3  201500002102668  11/01/2015  00:00  11/01/2015  11:50  MOTOR VEHICLE THEFT   \n",
       "4  201600000052855  11/01/2015  00:00  01/09/2016  00:00  MOTOR VEHICLE THEFT   \n",
       "\n",
       "             100 BLOCK ADDR      ZIP         PREMISE TYPE  GRID  \n",
       "0         13XX E ALMERIA RD  85006.0  SINGLE FAMILY HOUSE  BD30  \n",
       "1            51XX N 15TH ST  85014.0            APARTMENT  BJ30  \n",
       "2       14XX E HIGHLAND AVE  85014.0          PARKING LOT  BI30  \n",
       "3            69XX W WOOD ST  85043.0  SINGLE FAMILY HOUSE  AF12  \n",
       "4  N 43RD AVE & W CACTUS RD  85029.0  SINGLE FAMILY HOUSE  DA19  "
      ]
     },
     "execution_count": 4,
     "metadata": {},
     "output_type": "execute_result"
    }
   ],
   "source": [
    "crime.head()"
   ]
  },
  {
   "cell_type": "code",
   "execution_count": 5,
   "id": "f61a7ff3",
   "metadata": {},
   "outputs": [
    {
     "data": {
      "text/plain": [
       "INC NUMBER            527575\n",
       "OCCURRED ON           335250\n",
       "OCCURRED TO           247634\n",
       "UCR CRIME CATEGORY         9\n",
       "100 BLOCK ADDR         48170\n",
       "ZIP                      117\n",
       "PREMISE TYPE              98\n",
       "GRID                    1783\n",
       "dtype: int64"
      ]
     },
     "execution_count": 5,
     "metadata": {},
     "output_type": "execute_result"
    }
   ],
   "source": [
    "crime.nunique()"
   ]
  },
  {
   "cell_type": "code",
   "execution_count": 6,
   "id": "e31775e9",
   "metadata": {},
   "outputs": [
    {
     "data": {
      "text/plain": [
       "LARCENY-THEFT                            268448\n",
       "BURGLARY                                  67660\n",
       "MOTOR VEHICLE THEFT                       60444\n",
       "DRUG OFFENSE                              48043\n",
       "AGGRAVATED ASSAULT                        47858\n",
       "ROBBERY                                   20752\n",
       "RAPE                                       8139\n",
       "ARSON                                      4877\n",
       "MURDER AND NON-NEGLIGENT MANSLAUGHTER      1359\n",
       "Name: UCR CRIME CATEGORY, dtype: int64"
      ]
     },
     "execution_count": 6,
     "metadata": {},
     "output_type": "execute_result"
    }
   ],
   "source": [
    "crime['UCR CRIME CATEGORY'].value_counts()"
   ]
  },
  {
   "cell_type": "code",
   "execution_count": 7,
   "id": "992bb18a",
   "metadata": {},
   "outputs": [
    {
     "data": {
      "text/plain": [
       "<AxesSubplot:>"
      ]
     },
     "execution_count": 7,
     "metadata": {},
     "output_type": "execute_result"
    },
    {
     "data": {
      "image/png": "[encoded data removed]",
      "text/plain": [
       "<Figure size 432x288 with 1 Axes>"
      ]
     },
     "metadata": {
      "needs_background": "light"
     },
     "output_type": "display_data"
    }
   ],
   "source": [
    "crime['UCR CRIME CATEGORY'].value_counts().plot.bar()"
   ]
  },
  {
   "cell_type": "markdown",
   "id": "9bf743f2",
   "metadata": {},
   "source": [
    "As we can see above, the most common crime reported in this dataset is larceny-theft, which occured almost 4x the amount of the 2nd most common crime, which is burglary."
   ]
  },
  {
   "cell_type": "markdown",
   "id": "304c489d",
   "metadata": {},
   "source": [
    "Since larceny-theft is the most common crime reported, let's see where the most reported instances of this crime occurs."
   ]
  },
  {
   "cell_type": "code",
   "execution_count": 8,
   "id": "6e24fc85",
   "metadata": {},
   "outputs": [
    {
     "data": {
      "text/plain": [
       "85015.0    13618\n",
       "85008.0    12907\n",
       "85051.0    11833\n",
       "85041.0    11401\n",
       "85035.0     9907\n",
       "           ...  \n",
       "85284.0        1\n",
       "85351.0        1\n",
       "85286.0        1\n",
       "85268.0        1\n",
       "85383.0        1\n",
       "Name: ZIP, Length: 97, dtype: int64"
      ]
     },
     "execution_count": 8,
     "metadata": {},
     "output_type": "execute_result"
    }
   ],
   "source": [
    "crime[crime['UCR CRIME CATEGORY'] == 'LARCENY-THEFT'].ZIP.value_counts()"
   ]
  },
  {
   "cell_type": "markdown",
   "id": "d3ac6fb3",
   "metadata": {},
   "source": [
    "Larceny-theft crimes were reported most in the 85015 zip code, with 13618 instances of this crime beng reported. This zip code belongs to the Alhambra neighborhood in central Phoenix (https://www.unitedstateszipcodes.org/85015/)."
   ]
  },
  {
   "cell_type": "markdown",
   "id": "510396ca",
   "metadata": {},
   "source": [
    "Using this information, it could be useful to see what kind of premises that crime may be most likley to occur in the Alhambra neighborhood and see how that compares to the entire dataset's different premise types."
   ]
  },
  {
   "cell_type": "code",
   "execution_count": 9,
   "id": "d69711f5",
   "metadata": {
    "scrolled": true
   },
   "outputs": [
    {
     "data": {
      "text/plain": [
       "APARTMENT                      25920\n",
       "SINGLE FAMILY HOUSE            25185\n",
       "PARKING LOT                    23615\n",
       "DEPARTMENT / DISCOUNT STORE    22247\n",
       "RETAIL BUSINESS                21620\n",
       "                               ...  \n",
       "RAIL STOP                          7\n",
       "REST AREA                          7\n",
       "LAKE / WATERWAY / BEACH            3\n",
       "MILITARY INSTALLATION              3\n",
       "TRIBAL LANDS                       2\n",
       "Name: PREMISE TYPE, Length: 98, dtype: int64"
      ]
     },
     "execution_count": 9,
     "metadata": {},
     "output_type": "execute_result"
    }
   ],
   "source": [
    "larceny = crime[crime['UCR CRIME CATEGORY'] == 'LARCENY-THEFT']\n",
    "larceny['PREMISE TYPE'].value_counts()"
   ]
  },
  {
   "cell_type": "code",
   "execution_count": 10,
   "id": "a4449ba4",
   "metadata": {
    "scrolled": true
   },
   "outputs": [
    {
     "data": {
      "text/plain": [
       "DEPARTMENT / DISCOUNT STORE          2358\n",
       "RETAIL BUSINESS                      2104\n",
       "APARTMENT                            1701\n",
       "PARKING LOT                          1185\n",
       "SINGLE FAMILY HOUSE                   671\n",
       "                                     ... \n",
       "SCHOOL-OTHER                            1\n",
       "AMUSEMENT PARK                          1\n",
       "DOCK/WHARF/FREIGHT/MODAL TERMINAL       1\n",
       "TRAIN STATION                           1\n",
       "INDUSTRIAL SITE                         1\n",
       "Name: PREMISE TYPE, Length: 85, dtype: int64"
      ]
     },
     "execution_count": 10,
     "metadata": {},
     "output_type": "execute_result"
    }
   ],
   "source": [
    "alhambra = larceny[larceny['ZIP'] == 85015]\n",
    "alhambra['PREMISE TYPE'].value_counts()"
   ]
  },
  {
   "cell_type": "markdown",
   "id": "e27d1e25",
   "metadata": {},
   "source": [
    "As we can see by the numbers, larceny-theft happens most in apartment buildings throughout the entire datatset. However, as we can see in the second output that has shows the premise type for larceny-theft that occurs in the 85015 zip code, this type of crime occured most at a department or discount store, with the Alhambra neighborhood's apartments coming in 3rd."
   ]
  },
  {
   "cell_type": "markdown",
   "id": "724ff284",
   "metadata": {},
   "source": [
    "Now, let's group the crimes from this dataset into 2 categories: non-violent and violent crime. The non-violent crimes that appear on this dataset are larceny-theft, burglary, motor vehicle theft, and drug offense. The violent crimes, then, are aggrevated assault, robbery, rape, arson, and murder and non-negligent manslaughter."
   ]
  },
  {
   "cell_type": "code",
   "execution_count": 11,
   "id": "dc39088f",
   "metadata": {},
   "outputs": [],
   "source": [
    "#this can be done by creating new dataframes and appending them using the append function, as shown below\n",
    "larceny = crime[crime['UCR CRIME CATEGORY'] == 'LARCENY-THEFT']\n",
    "burglary = crime[crime['UCR CRIME CATEGORY'] == 'BURGLARY']\n",
    "motor = crime[crime['UCR CRIME CATEGORY'] == 'MOTOR VEHICLE THEFT']\n",
    "drug = crime[crime['UCR CRIME CATEGORY'] == 'DRUG OFFENSE']\n",
    "\n",
    "nonviolent = larceny.append([burglary, motor, drug])"
   ]
  },
  {
   "cell_type": "code",
   "execution_count": 12,
   "id": "d0a3a1b8",
   "metadata": {},
   "outputs": [],
   "source": [
    "assault = crime[crime['UCR CRIME CATEGORY'] == 'AGGREVATED ASSAULT']\n",
    "robbery = crime[crime['UCR CRIME CATEGORY'] == 'ROBBERY']\n",
    "arson = crime[crime['UCR CRIME CATEGORY'] == 'ARSON']\n",
    "mnms = crime[crime['UCR CRIME CATEGORY'] == 'MURDER AND NON-NEGLIGENT MANSLAUGHTER']\n",
    "\n",
    "violent = assault.append([robbery, arson, mnms])"
   ]
  },
  {
   "cell_type": "code",
   "execution_count": 13,
   "id": "acb455c4",
   "metadata": {},
   "outputs": [
    {
     "data": {
      "text/plain": [
       "(444595, 8)"
      ]
     },
     "execution_count": 13,
     "metadata": {},
     "output_type": "execute_result"
    }
   ],
   "source": [
    "nonviolent.shape"
   ]
  },
  {
   "cell_type": "code",
   "execution_count": 14,
   "id": "7cc91907",
   "metadata": {},
   "outputs": [
    {
     "data": {
      "text/plain": [
       "(26988, 8)"
      ]
     },
     "execution_count": 14,
     "metadata": {},
     "output_type": "execute_result"
    }
   ],
   "source": [
    "violent.shape"
   ]
  },
  {
   "cell_type": "markdown",
   "id": "4a5ad76d",
   "metadata": {},
   "source": [
    "Simply finding the shape of both of the new dataframes will indicate that, in this dataset, 444595 nonviolent crimes were reported and 26988 violent crimes were reported. Within the alloted period, nonviolent crimes occured and were reported nearly 17x that of violent crime."
   ]
  },
  {
   "cell_type": "markdown",
   "id": "2e67e04d",
   "metadata": {},
   "source": [
    "Phoenix authorities would be able to use the info found in this script and do more analyses to inform residents of certain areas to be more aware of suspicious activity and to keep important possessions as hidden as possible. Police could also use this information to decide where to place more officers, how often they should go on a routine through certain areas, and to be on the look out for certain crimes in certain areas. Of course, due to the nature of many of these crimes, they can't all be prevented, but actions can be taken so that the citizens of Phoenix are able to live a safe, happy, and healthy life."
   ]
  }
 ],
 "metadata": {
  "kernelspec": {
   "display_name": "Python 3 (ipykernel)",
   "language": "python",
   "name": "python3"
  },
  "language_info": {
   "codemirror_mode": {
    "name": "ipython",
    "version": 3
   },
   "file_extension": ".py",
   "mimetype": "text/x-python",
   "name": "python",
   "nbconvert_exporter": "python",
   "pygments_lexer": "ipython3",
   "version": "3.9.7"
  }
 },
 "nbformat": 4,
 "nbformat_minor": 5
}
