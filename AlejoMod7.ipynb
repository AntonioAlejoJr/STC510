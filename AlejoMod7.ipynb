{
 "cells": [
  {
   "cell_type": "markdown",
   "id": "5500f780",
   "metadata": {},
   "source": [
    "# Antonio Alejo Module 7"
   ]
  },
  {
   "cell_type": "markdown",
   "id": "32d7baf0",
   "metadata": {},
   "source": [
    "For this project, I wanted to return to the Phoenix crime dataset that we looked at in Module 3. I was really intruiged by this dataset for a few reasons. First, this data is very relevant to me. Although I am not an Arizona or Phoenix native, I have called the area home for the past 3 years. I also wanted to revisit this dataset because of the large amount of data entries that it holds. The dataset also includes data based on location, and having variables such as when the crime occurred, which type of crime it was, and where it happened allow for a few different research questions to be asked. Completing module 3 also gave me an interest into the possible implications of this data and how certain findings can be used to predict and/or prevent crime."
   ]
  },
  {
   "cell_type": "markdown",
   "id": "6abb8472",
   "metadata": {},
   "source": [
    "## Research questions:"
   ]
  },
  {
   "cell_type": "markdown",
   "id": "83e6e55e",
   "metadata": {},
   "source": [
    "Do distinct patterns emerge regarding the prevalence of different crime types during the different seasons in Phoenix, Arizona?"
   ]
  },
  {
   "cell_type": "markdown",
   "id": "c217530a",
   "metadata": {},
   "source": [
    "Can we predict the nature of crimes, distinguishing between violent and nonviolent, in Phoenix based on their geographical location, specifically using zip codes as a predictor?"
   ]
  },
  {
   "cell_type": "markdown",
   "id": "b67ae58e",
   "metadata": {},
   "source": [
    "Which specific premises exhibit the highest association with different crime types in Phoenix?"
   ]
  },
  {
   "cell_type": "markdown",
   "id": "7ae46893",
   "metadata": {},
   "source": [
    "## Literature Review:"
   ]
  },
  {
   "cell_type": "markdown",
   "id": "fc052125",
   "metadata": {},
   "source": [
    "Throughout my time in academia, there have been multiple times, usually in a statistics or psychology class, when an example of 'correlation does not equal causation' is brought up. An example that is commonly used is that when ice cream sales are high, crime rates are also high. This example is used to show that the purchasing of ice cream does not cause crime, but that both ice cream sales and crime rates are higher in the summer. The National Reeentry Resource Center's (2024) findings from the Bureau of Justice Statistics indicate that there is a higher rate of household property crimes in the summer. They also found that motor vehicle thefts do not have a seasonal pattern, violent assaults patterns vary depending on the crime, aggravated assault rates are highest in the summer, rape, sexual assault, and intimate partner violence rates are highest in the summer, and robbery rates do not have seasonal variations. While some crimes do not have a seasonal pattern, summer seems to be a common denominator for those crimes that do have a seasonal pattern. The reason why I would like to look into seasonal trends for crime in Phoenix is because of how hot it gets in the summer. One of the reasons why more crimes happen in the summer is because more people are outside. But does that hold true for summers in Phoenix, where people may be more inclined to stay in their houses because of the scorching heat?"
   ]
  },
  {
   "cell_type": "markdown",
   "id": "f0f181b2",
   "metadata": {},
   "source": [
    "In regards to my second research question, the location of where violent or nonviolent crimes occur in Phoenix can shed light on why and how these crimes are more likely to occur. This dataset includes different zip codes in the Phoenix area, usually belonging to different neighborhoods in the area and the greater Phoenix area as well. Although the dataset does not include the average income level of these zip codes, finding out where crime is more likely to occur and comparing that to income level can not only give good insight to the problem, but also allow for solutions to be made regarding crime. This is because individuals with family incomes of less than 15,000 dollars are more than three times as likely to be the victim of a crime as individuals with family incomes of more than 75,000 dollars (CASES, 2024). The most prevalent personal crimes for low-income victims tend to be violent as well (CASES, 2024), giving me some insight as to what to expect when trying to answer this question."
   ]
  },
  {
   "cell_type": "markdown",
   "id": "80bc27fc",
   "metadata": {},
   "source": [
    "To relate to my last research question, security consultant Chris E. McGoey (2023) has found that properties open to the public generally operate at a greater crime risk. McGoey (2023) has also found that cash-based late-night businesses have greater crime risk. Since it is also more likely for low income areas to be more susceptible to crime, these areas most likely have less security for stores, homes, and apartment buildings as well, making them an easier target for criminals. "
   ]
  },
  {
   "cell_type": "code",
   "execution_count": 1,
   "id": "3106910d",
   "metadata": {},
   "outputs": [],
   "source": [
    "#import libraries\n",
    "import pandas as pd\n",
    "import matplotlib.pyplot as plt\n",
    "import numpy as np\n",
    "from datetime import datetime\n",
    "from sklearn.model_selection import train_test_split\n",
    "from sklearn.naive_bayes import MultinomialNB\n",
    "from sklearn.metrics import accuracy_score, confusion_matrix\n",
    "from sklearn.feature_extraction.text import TfidfVectorizer"
   ]
  },
  {
   "cell_type": "code",
   "execution_count": 2,
   "id": "080c70d0",
   "metadata": {},
   "outputs": [],
   "source": [
    "#import PHX crime data\n",
    "crime = pd.read_csv(r\"C:\\Users\\tonya\\Downloads\\crime-data_crime-data_crimestat.csv\", engine = 'python')"
   ]
  },
  {
   "cell_type": "code",
   "execution_count": 3,
   "id": "f992bfff",
   "metadata": {},
   "outputs": [
    {
     "name": "stdout",
     "output_type": "stream",
     "text": [
      "<class 'pandas.core.frame.DataFrame'>\n",
      "RangeIndex: 527580 entries, 0 to 527579\n",
      "Data columns (total 8 columns):\n",
      " #   Column              Non-Null Count   Dtype  \n",
      "---  ------              --------------   -----  \n",
      " 0   INC NUMBER          527580 non-null  object \n",
      " 1   OCCURRED ON         527161 non-null  object \n",
      " 2   OCCURRED TO         339743 non-null  object \n",
      " 3   UCR CRIME CATEGORY  527580 non-null  object \n",
      " 4   100 BLOCK ADDR      527580 non-null  object \n",
      " 5   ZIP                 527574 non-null  float64\n",
      " 6   PREMISE TYPE        524070 non-null  object \n",
      " 7   GRID                526141 non-null  object \n",
      "dtypes: float64(1), object(7)\n",
      "memory usage: 32.2+ MB\n"
     ]
    }
   ],
   "source": [
    "crime.info()"
   ]
  },
  {
   "cell_type": "markdown",
   "id": "a4e5a023",
   "metadata": {},
   "source": [
    "I will be removing some variables, as they will not be needed or used in this project. The variables being removed are 'INC NUMBER', 'OCCURRED TO', '100 BLOCK ADDR', and 'GRID'."
   ]
  },
  {
   "cell_type": "code",
   "execution_count": 4,
   "id": "0b05aea8",
   "metadata": {},
   "outputs": [],
   "source": [
    "#drop the variables that will not be used\n",
    "crime = crime.drop(['INC NUMBER', 'OCCURRED TO', '100 BLOCK ADDR', 'GRID'], axis = 1)"
   ]
  },
  {
   "cell_type": "markdown",
   "id": "ccb46557",
   "metadata": {},
   "source": [
    "I also will not be using the time at which the crimes occurred. This information could be useful depending on the research question, but it is not relevant in mine. Since my research question requires seasonal information, a new variable will be made based on the month of the crime. For the sake of this project (and my sanity) I will group the seasons by months instead of the exact dates that the seasons starts (the solstices)."
   ]
  },
  {
   "cell_type": "code",
   "execution_count": 5,
   "id": "6b561d1c",
   "metadata": {},
   "outputs": [],
   "source": [
    "#remove time\n",
    "crime['DATE'] = crime['OCCURRED ON'].str.split(' ').str[0]\n",
    "\n",
    "#convert the 'DATE' column to a datetime object\n",
    "crime['DATE'] = pd.to_datetime(crime['DATE'], format='%m/%d/%Y')\n",
    "\n",
    "#a function is made to determine the season\n",
    "def get_season(month):\n",
    "    if 3 <= month <= 5:\n",
    "        return 'SPRING'\n",
    "    elif 6 <= month <= 8:\n",
    "        return 'SUMMER'\n",
    "    elif 9 <= month <= 11:\n",
    "        return 'FALL'\n",
    "    else:\n",
    "        return 'WINTER'\n",
    "\n",
    "#create a new 'season' column using the new function\n",
    "crime['SEASON'] = crime['DATE'].dt.month.apply(get_season)\n",
    "\n",
    "#the occurred on and date variables can be removed\n",
    "crime = crime.drop(['OCCURRED ON', 'DATE'], axis = 1)"
   ]
  },
  {
   "cell_type": "code",
   "execution_count": 6,
   "id": "f633251c",
   "metadata": {},
   "outputs": [
    {
     "data": {
      "text/html": [
       "<div>\n",
       "<style scoped>\n",
       "    .dataframe tbody tr th:only-of-type {\n",
       "        vertical-align: middle;\n",
       "    }\n",
       "\n",
       "    .dataframe tbody tr th {\n",
       "        vertical-align: top;\n",
       "    }\n",
       "\n",
       "    .dataframe thead th {\n",
       "        text-align: right;\n",
       "    }\n",
       "</style>\n",
       "<table border=\"1\" class=\"dataframe\">\n",
       "  <thead>\n",
       "    <tr style=\"text-align: right;\">\n",
       "      <th></th>\n",
       "      <th>UCR CRIME CATEGORY</th>\n",
       "      <th>ZIP</th>\n",
       "      <th>PREMISE TYPE</th>\n",
       "      <th>SEASON</th>\n",
       "    </tr>\n",
       "  </thead>\n",
       "  <tbody>\n",
       "    <tr>\n",
       "      <th>0</th>\n",
       "      <td>RAPE</td>\n",
       "      <td>85006.0</td>\n",
       "      <td>SINGLE FAMILY HOUSE</td>\n",
       "      <td>FALL</td>\n",
       "    </tr>\n",
       "    <tr>\n",
       "      <th>1</th>\n",
       "      <td>LARCENY-THEFT</td>\n",
       "      <td>85014.0</td>\n",
       "      <td>APARTMENT</td>\n",
       "      <td>FALL</td>\n",
       "    </tr>\n",
       "    <tr>\n",
       "      <th>2</th>\n",
       "      <td>LARCENY-THEFT</td>\n",
       "      <td>85014.0</td>\n",
       "      <td>PARKING LOT</td>\n",
       "      <td>FALL</td>\n",
       "    </tr>\n",
       "    <tr>\n",
       "      <th>3</th>\n",
       "      <td>MOTOR VEHICLE THEFT</td>\n",
       "      <td>85043.0</td>\n",
       "      <td>SINGLE FAMILY HOUSE</td>\n",
       "      <td>FALL</td>\n",
       "    </tr>\n",
       "    <tr>\n",
       "      <th>4</th>\n",
       "      <td>MOTOR VEHICLE THEFT</td>\n",
       "      <td>85029.0</td>\n",
       "      <td>SINGLE FAMILY HOUSE</td>\n",
       "      <td>FALL</td>\n",
       "    </tr>\n",
       "  </tbody>\n",
       "</table>\n",
       "</div>"
      ],
      "text/plain": [
       "    UCR CRIME CATEGORY      ZIP         PREMISE TYPE SEASON\n",
       "0                 RAPE  85006.0  SINGLE FAMILY HOUSE   FALL\n",
       "1        LARCENY-THEFT  85014.0            APARTMENT   FALL\n",
       "2        LARCENY-THEFT  85014.0          PARKING LOT   FALL\n",
       "3  MOTOR VEHICLE THEFT  85043.0  SINGLE FAMILY HOUSE   FALL\n",
       "4  MOTOR VEHICLE THEFT  85029.0  SINGLE FAMILY HOUSE   FALL"
      ]
     },
     "execution_count": 6,
     "metadata": {},
     "output_type": "execute_result"
    }
   ],
   "source": [
    "crime.head()"
   ]
  },
  {
   "cell_type": "markdown",
   "id": "633067db",
   "metadata": {},
   "source": [
    "## Question 1:"
   ]
  },
  {
   "cell_type": "code",
   "execution_count": 7,
   "id": "e31775e9",
   "metadata": {},
   "outputs": [
    {
     "data": {
      "text/plain": [
       "WINTER    140531\n",
       "FALL      132027\n",
       "SPRING    129085\n",
       "SUMMER    125937\n",
       "Name: SEASON, dtype: int64"
      ]
     },
     "execution_count": 7,
     "metadata": {},
     "output_type": "execute_result"
    }
   ],
   "source": [
    "crime['SEASON'].value_counts()"
   ]
  },
  {
   "cell_type": "code",
   "execution_count": 8,
   "id": "992bb18a",
   "metadata": {},
   "outputs": [
    {
     "data": {
      "text/plain": [
       "Text(0, 0.5, 'Number of Crimes Reported')"
      ]
     },
     "execution_count": 8,
     "metadata": {},
     "output_type": "execute_result"
    },
    {
     "data": {
      "image/png": "[encoded data removed]",
      "text/plain": [
       "<Figure size 432x288 with 1 Axes>"
      ]
     },
     "metadata": {
      "needs_background": "light"
     },
     "output_type": "display_data"
    }
   ],
   "source": [
    "plt1 = crime['SEASON'].value_counts().plot.bar()\n",
    "plt1.set_title('Crimes Reported in Each Season In Phoenix')\n",
    "plt1.set_xlabel('Seasons')\n",
    "plt1.set_ylabel('Number of Crimes Reported')"
   ]
  },
  {
   "cell_type": "markdown",
   "id": "9bf743f2",
   "metadata": {},
   "source": [
    "As we can see above, the most crimes reported in this dataset happened between December and February. This opposes general crime rate trends across the country, where more crime is likely to happen during the summer."
   ]
  },
  {
   "cell_type": "markdown",
   "id": "304c489d",
   "metadata": {},
   "source": [
    "Earlier in my report, it was mentioned that violent crimes are more prevalent in the summer. Given the information that we are given above, lets look at the amount of different crimes for the different seasons and compare."
   ]
  },
  {
   "cell_type": "markdown",
   "id": "3d2a7b74",
   "metadata": {},
   "source": [
    "### Winter Crime Counts"
   ]
  },
  {
   "cell_type": "code",
   "execution_count": 9,
   "id": "cbff3d2a",
   "metadata": {
    "scrolled": false
   },
   "outputs": [
    {
     "data": {
      "text/plain": [
       "LARCENY-THEFT                            74079\n",
       "BURGLARY                                 18090\n",
       "MOTOR VEHICLE THEFT                      15726\n",
       "DRUG OFFENSE                             12038\n",
       "AGGRAVATED ASSAULT                       11387\n",
       "ROBBERY                                   5510\n",
       "RAPE                                      2100\n",
       "ARSON                                     1246\n",
       "MURDER AND NON-NEGLIGENT MANSLAUGHTER      355\n",
       "Name: CRIME_CATEGORY, dtype: int64"
      ]
     },
     "execution_count": 9,
     "metadata": {},
     "output_type": "execute_result"
    }
   ],
   "source": [
    "#need to rename columns that have spaces because python syntax does not like spaces\n",
    "crime = crime.rename(columns = {'UCR CRIME CATEGORY': 'CRIME_CATEGORY', 'PREMISE TYPE': 'PREMISE_TYPE'})\n",
    "\n",
    "crime[crime['SEASON'] == 'WINTER'].CRIME_CATEGORY.value_counts()"
   ]
  },
  {
   "cell_type": "code",
   "execution_count": 10,
   "id": "08d1d941",
   "metadata": {},
   "outputs": [
    {
     "data": {
      "text/plain": [
       "Text(0, 0.5, 'Number of Crimes Reported')"
      ]
     },
     "execution_count": 10,
     "metadata": {},
     "output_type": "execute_result"
    },
    {
     "data": {
      "image/png": "[encoded data removed]",
      "text/plain": [
       "<Figure size 432x288 with 1 Axes>"
      ]
     },
     "metadata": {
      "needs_background": "light"
     },
     "output_type": "display_data"
    }
   ],
   "source": [
    "plt2 = crime[crime['SEASON'] == 'WINTER'].CRIME_CATEGORY.value_counts().plot.bar()\n",
    "plt2.set_title('Crimes Reported in Winter In Phoenix')\n",
    "plt2.set_xlabel('Crimes')\n",
    "plt2.set_ylabel('Number of Crimes Reported')"
   ]
  },
  {
   "cell_type": "markdown",
   "id": "e9c7db55",
   "metadata": {},
   "source": [
    "### Fall Crime Counts"
   ]
  },
  {
   "cell_type": "code",
   "execution_count": 11,
   "id": "a4395fa3",
   "metadata": {
    "scrolled": true
   },
   "outputs": [
    {
     "data": {
      "text/plain": [
       "LARCENY-THEFT                            67154\n",
       "BURGLARY                                 16708\n",
       "MOTOR VEHICLE THEFT                      15536\n",
       "AGGRAVATED ASSAULT                       12175\n",
       "DRUG OFFENSE                             11704\n",
       "ROBBERY                                   5299\n",
       "RAPE                                      2034\n",
       "ARSON                                     1091\n",
       "MURDER AND NON-NEGLIGENT MANSLAUGHTER      326\n",
       "Name: CRIME_CATEGORY, dtype: int64"
      ]
     },
     "execution_count": 11,
     "metadata": {},
     "output_type": "execute_result"
    }
   ],
   "source": [
    "crime[crime['SEASON'] == 'FALL'].CRIME_CATEGORY.value_counts()"
   ]
  },
  {
   "cell_type": "code",
   "execution_count": 12,
   "id": "d31baf9c",
   "metadata": {},
   "outputs": [
    {
     "data": {
      "text/plain": [
       "Text(0, 0.5, 'Number of Crimes Reported')"
      ]
     },
     "execution_count": 12,
     "metadata": {},
     "output_type": "execute_result"
    },
    {
     "data": {
      "image/png": "[encoded data removed]",
      "text/plain": [
       "<Figure size 432x288 with 1 Axes>"
      ]
     },
     "metadata": {
      "needs_background": "light"
     },
     "output_type": "display_data"
    }
   ],
   "source": [
    "plt3 = crime[crime['SEASON'] == 'FALL'].CRIME_CATEGORY.value_counts().plot.bar()\n",
    "plt3.set_title('Crimes Reported in Fall In Phoenix')\n",
    "plt3.set_xlabel('Crimes')\n",
    "plt3.set_ylabel('Number of Crimes Reported')"
   ]
  },
  {
   "cell_type": "markdown",
   "id": "2c864774",
   "metadata": {},
   "source": [
    "### Spring Crime Counts"
   ]
  },
  {
   "cell_type": "code",
   "execution_count": 13,
   "id": "6e24fc85",
   "metadata": {
    "scrolled": false
   },
   "outputs": [
    {
     "data": {
      "text/plain": [
       "LARCENY-THEFT                            65375\n",
       "BURGLARY                                 16649\n",
       "MOTOR VEHICLE THEFT                      14067\n",
       "DRUG OFFENSE                             12460\n",
       "AGGRAVATED ASSAULT                       12080\n",
       "ROBBERY                                   4890\n",
       "RAPE                                      1956\n",
       "ARSON                                     1266\n",
       "MURDER AND NON-NEGLIGENT MANSLAUGHTER      342\n",
       "Name: CRIME_CATEGORY, dtype: int64"
      ]
     },
     "execution_count": 13,
     "metadata": {},
     "output_type": "execute_result"
    }
   ],
   "source": [
    "crime[crime['SEASON'] == 'SPRING'].CRIME_CATEGORY.value_counts()"
   ]
  },
  {
   "cell_type": "code",
   "execution_count": 14,
   "id": "430bc281",
   "metadata": {},
   "outputs": [
    {
     "data": {
      "text/plain": [
       "Text(0, 0.5, 'Number of Crimes Reported')"
      ]
     },
     "execution_count": 14,
     "metadata": {},
     "output_type": "execute_result"
    },
    {
     "data": {
      "image/png": "[encoded data removed]",
      "text/plain": [
       "<Figure size 432x288 with 1 Axes>"
      ]
     },
     "metadata": {
      "needs_background": "light"
     },
     "output_type": "display_data"
    }
   ],
   "source": [
    "plt4 = crime[crime['SEASON'] == 'SPRING'].CRIME_CATEGORY.value_counts().plot.bar()\n",
    "plt4.set_title('Crimes Reported in Spring In Phoenix')\n",
    "plt4.set_xlabel('Crimes')\n",
    "plt4.set_ylabel('Number of Crimes Reported')"
   ]
  },
  {
   "cell_type": "markdown",
   "id": "985dc308",
   "metadata": {},
   "source": [
    "### Summer Crime Counts"
   ]
  },
  {
   "cell_type": "code",
   "execution_count": 15,
   "id": "72a3329a",
   "metadata": {
    "scrolled": false
   },
   "outputs": [
    {
     "data": {
      "text/plain": [
       "LARCENY-THEFT                            61840\n",
       "BURGLARY                                 16213\n",
       "MOTOR VEHICLE THEFT                      15115\n",
       "AGGRAVATED ASSAULT                       12216\n",
       "DRUG OFFENSE                             11841\n",
       "ROBBERY                                   5053\n",
       "RAPE                                      2049\n",
       "ARSON                                     1274\n",
       "MURDER AND NON-NEGLIGENT MANSLAUGHTER      336\n",
       "Name: CRIME_CATEGORY, dtype: int64"
      ]
     },
     "execution_count": 15,
     "metadata": {},
     "output_type": "execute_result"
    }
   ],
   "source": [
    "crime[crime['SEASON'] == 'SUMMER'].CRIME_CATEGORY.value_counts()"
   ]
  },
  {
   "cell_type": "code",
   "execution_count": 16,
   "id": "754bb44e",
   "metadata": {},
   "outputs": [
    {
     "data": {
      "text/plain": [
       "Text(0, 0.5, 'Number of Crimes Reported')"
      ]
     },
     "execution_count": 16,
     "metadata": {},
     "output_type": "execute_result"
    },
    {
     "data": {
      "image/png": "[encoded data removed]",
      "text/plain": [
       "<Figure size 432x288 with 1 Axes>"
      ]
     },
     "metadata": {
      "needs_background": "light"
     },
     "output_type": "display_data"
    }
   ],
   "source": [
    "plt5 = crime[crime['SEASON'] == 'SUMMER'].CRIME_CATEGORY.value_counts().plot.bar()\n",
    "plt5.set_title('Crimes Reported in Summer In Phoenix')\n",
    "plt5.set_xlabel('Crimes')\n",
    "plt5.set_ylabel('Number of Crimes Reported')"
   ]
  },
  {
   "cell_type": "markdown",
   "id": "cd421dba",
   "metadata": {},
   "source": [
    "Comparing the numbers, the winter season saw more crime in most categories besides aggrevated assault and arson. Using this information and the considerations made in the literature review, more research can be done to understand the pattern here. I think it makes sense that the amount of arson that occurs and is reported is the highest in the summer - the climate in Phoenix is so hot and dry during the summer that it could make committing arson easier than the other seasons. As for the high aggrevated assault during Phoenix summers, some more theories investigating why this type of crime is higher in the summer can be made. This pattern does coincide with the existing literature, but more questions can be asked, perhaps to investigate the effects that scorching heat can have on aggressive tendencies. "
   ]
  },
  {
   "cell_type": "markdown",
   "id": "0b1a9ba7",
   "metadata": {},
   "source": [
    "## Question 2:"
   ]
  },
  {
   "cell_type": "markdown",
   "id": "d3ac6fb3",
   "metadata": {},
   "source": [
    "To investigate the second research question, a Naive Bayes classifier will be implemented. First, a variable that indicates whether or not a crime is violent will be created. Larceny-theft, burglary, motor vehicle theft, and drug offense will be categorized as nonviolent. Aggrevated assault, robbery, rape, arson, and murder and non-negligent manslaughter will be categorized as violent."
   ]
  },
  {
   "cell_type": "code",
   "execution_count": 17,
   "id": "9b148cd2",
   "metadata": {},
   "outputs": [],
   "source": [
    "#create a function to determine whether a crime is violent or not\n",
    "def violent_or_not(crimetype):\n",
    "    if crimetype['CRIME_CATEGORY'] == 'LARCENY-THEFT' or crimetype['CRIME_CATEGORY'] == 'BURGLARY' or crimetype['CRIME_CATEGORY'] == 'MOTOR VEHICLE THEFT' or crimetype['CRIME_CATEGORY'] == 'DRUG OFFENSE':\n",
    "        return 'NONVIOLENT'\n",
    "    else:\n",
    "        return 'VIOLENT'\n",
    "\n",
    "#add new variable to the dataset that implements the new function    \n",
    "crime['TYPE'] = crime.apply(violent_or_not, axis=1)\n",
    "\n",
    "#create a function similar to violent_or_not that gives a 0 for nonviolent and 1 for violent\n",
    "def violent_or_not2(crimetype2):\n",
    "    if crimetype2['TYPE'] == 'NONVIOLENT':\n",
    "        return 0\n",
    "    else:\n",
    "        return 1\n",
    "\n",
    "#again, create a new variable that implements the new function    \n",
    "crime['V_or_N'] = crime.apply(violent_or_not2, axis=1)"
   ]
  },
  {
   "cell_type": "code",
   "execution_count": 18,
   "id": "2eadfc12",
   "metadata": {
    "scrolled": true
   },
   "outputs": [
    {
     "data": {
      "text/html": [
       "<div>\n",
       "<style scoped>\n",
       "    .dataframe tbody tr th:only-of-type {\n",
       "        vertical-align: middle;\n",
       "    }\n",
       "\n",
       "    .dataframe tbody tr th {\n",
       "        vertical-align: top;\n",
       "    }\n",
       "\n",
       "    .dataframe thead th {\n",
       "        text-align: right;\n",
       "    }\n",
       "</style>\n",
       "<table border=\"1\" class=\"dataframe\">\n",
       "  <thead>\n",
       "    <tr style=\"text-align: right;\">\n",
       "      <th></th>\n",
       "      <th>CRIME_CATEGORY</th>\n",
       "      <th>ZIP</th>\n",
       "      <th>PREMISE_TYPE</th>\n",
       "      <th>SEASON</th>\n",
       "      <th>TYPE</th>\n",
       "      <th>V_or_N</th>\n",
       "    </tr>\n",
       "  </thead>\n",
       "  <tbody>\n",
       "    <tr>\n",
       "      <th>0</th>\n",
       "      <td>RAPE</td>\n",
       "      <td>85006.0</td>\n",
       "      <td>SINGLE FAMILY HOUSE</td>\n",
       "      <td>FALL</td>\n",
       "      <td>VIOLENT</td>\n",
       "      <td>1</td>\n",
       "    </tr>\n",
       "    <tr>\n",
       "      <th>1</th>\n",
       "      <td>LARCENY-THEFT</td>\n",
       "      <td>85014.0</td>\n",
       "      <td>APARTMENT</td>\n",
       "      <td>FALL</td>\n",
       "      <td>NONVIOLENT</td>\n",
       "      <td>0</td>\n",
       "    </tr>\n",
       "    <tr>\n",
       "      <th>2</th>\n",
       "      <td>LARCENY-THEFT</td>\n",
       "      <td>85014.0</td>\n",
       "      <td>PARKING LOT</td>\n",
       "      <td>FALL</td>\n",
       "      <td>NONVIOLENT</td>\n",
       "      <td>0</td>\n",
       "    </tr>\n",
       "    <tr>\n",
       "      <th>3</th>\n",
       "      <td>MOTOR VEHICLE THEFT</td>\n",
       "      <td>85043.0</td>\n",
       "      <td>SINGLE FAMILY HOUSE</td>\n",
       "      <td>FALL</td>\n",
       "      <td>NONVIOLENT</td>\n",
       "      <td>0</td>\n",
       "    </tr>\n",
       "    <tr>\n",
       "      <th>4</th>\n",
       "      <td>MOTOR VEHICLE THEFT</td>\n",
       "      <td>85029.0</td>\n",
       "      <td>SINGLE FAMILY HOUSE</td>\n",
       "      <td>FALL</td>\n",
       "      <td>NONVIOLENT</td>\n",
       "      <td>0</td>\n",
       "    </tr>\n",
       "  </tbody>\n",
       "</table>\n",
       "</div>"
      ],
      "text/plain": [
       "        CRIME_CATEGORY      ZIP         PREMISE_TYPE SEASON        TYPE  \\\n",
       "0                 RAPE  85006.0  SINGLE FAMILY HOUSE   FALL     VIOLENT   \n",
       "1        LARCENY-THEFT  85014.0            APARTMENT   FALL  NONVIOLENT   \n",
       "2        LARCENY-THEFT  85014.0          PARKING LOT   FALL  NONVIOLENT   \n",
       "3  MOTOR VEHICLE THEFT  85043.0  SINGLE FAMILY HOUSE   FALL  NONVIOLENT   \n",
       "4  MOTOR VEHICLE THEFT  85029.0  SINGLE FAMILY HOUSE   FALL  NONVIOLENT   \n",
       "\n",
       "   V_or_N  \n",
       "0       1  \n",
       "1       0  \n",
       "2       0  \n",
       "3       0  \n",
       "4       0  "
      ]
     },
     "execution_count": 18,
     "metadata": {},
     "output_type": "execute_result"
    }
   ],
   "source": [
    "crime.head()"
   ]
  },
  {
   "cell_type": "code",
   "execution_count": 19,
   "id": "5f339329",
   "metadata": {},
   "outputs": [],
   "source": [
    "#create testing and training variables\n",
    "X_train, X_test, y_train, y_test = train_test_split(crime['ZIP'].astype(str), crime['V_or_N'], \n",
    "                                                    test_size=0.2, random_state=1)"
   ]
  },
  {
   "cell_type": "code",
   "execution_count": 20,
   "id": "faee90ce",
   "metadata": {},
   "outputs": [],
   "source": [
    "tfidf_vectorizer = TfidfVectorizer(use_idf = True)\n",
    "X_train_tf = tfidf_vectorizer.fit_transform(X_train)\n",
    "X_test_tf = tfidf_vectorizer.transform(X_test)"
   ]
  },
  {
   "cell_type": "code",
   "execution_count": 21,
   "id": "63917e17",
   "metadata": {},
   "outputs": [
    {
     "data": {
      "text/plain": [
       "MultinomialNB()"
      ]
     },
     "execution_count": 21,
     "metadata": {},
     "output_type": "execute_result"
    }
   ],
   "source": [
    "#create the model\n",
    "nb = MultinomialNB()\n",
    "nb.fit(X_train_tf, y_train)"
   ]
  },
  {
   "cell_type": "code",
   "execution_count": 22,
   "id": "fb184ddb",
   "metadata": {},
   "outputs": [],
   "source": [
    "#use the model to make predictions from our training and testing data\n",
    "predictions = nb.predict(X_test_tf)"
   ]
  },
  {
   "cell_type": "code",
   "execution_count": 23,
   "id": "f5f6d04e",
   "metadata": {},
   "outputs": [
    {
     "name": "stdout",
     "output_type": "stream",
     "text": [
      "Accuracy: 0.8425072974714736\n"
     ]
    }
   ],
   "source": [
    "#get the accuracy of the model\n",
    "accuracy = accuracy_score(y_test, predictions)\n",
    "\n",
    "# Print the results\n",
    "print(f'Accuracy: {accuracy}')"
   ]
  },
  {
   "cell_type": "markdown",
   "id": "51ad63af",
   "metadata": {},
   "source": [
    "The Naive Bayes model correctly predicted whether a crime was violent or not based on zip code with an accuracy of 0.8425072974714736. This can be useful for a number of reasons. First, a similar model can be done with more data from a longer period of time. A similar model may also be implemented to not only predict where violent crime is more likely to occur, but predict when the crime will occur and which kind of crime it may be. This would possibly allow crimes to be stopped before they happen, by increasing surveillance in certain areas or by developing certain communities where crime is more likely to occur because, as was noted before, lower income levels are linked with higher crime rates."
   ]
  },
  {
   "cell_type": "markdown",
   "id": "c96c29d8",
   "metadata": {},
   "source": [
    "## Question 3:"
   ]
  },
  {
   "cell_type": "markdown",
   "id": "0a4f562e",
   "metadata": {},
   "source": [
    "For my final research question, I will first be examining which types of premises in the dataset had the most crimes reported."
   ]
  },
  {
   "cell_type": "code",
   "execution_count": 24,
   "id": "74684769",
   "metadata": {},
   "outputs": [
    {
     "data": {
      "text/plain": [
       "SINGLE FAMILY HOUSE                    75852\n",
       "APARTMENT                              70748\n",
       "PARKING LOT                            44069\n",
       "STREET / ROADWAY / SIDEWALK            30080\n",
       "STREET / ROADWAY / ALLEY / SIDEWALK    28574\n",
       "                                       ...  \n",
       "REST AREA                                 15\n",
       "STOREROOM / SHED                          14\n",
       "LAKE / WATERWAY / BEACH                    8\n",
       "MILITARY INSTALLATION                      6\n",
       "TRIBAL LANDS                               5\n",
       "Name: PREMISE_TYPE, Length: 98, dtype: int64"
      ]
     },
     "execution_count": 24,
     "metadata": {},
     "output_type": "execute_result"
    }
   ],
   "source": [
    "crime['PREMISE_TYPE'].value_counts()"
   ]
  },
  {
   "cell_type": "markdown",
   "id": "5f426eb8",
   "metadata": {},
   "source": [
    "As we can see, the most crimes were reported to have occurred in/to a single family household. This makes sense, as this type of premise is of the most common in the city and the greater Phoenix area. A single family house is most likely to have valuables stored for criminals looking to commit nonviolent crime. A family house may also be vacant for many hours of the day, as many homeowners probably go to work for most of the day and perhaps have children that are at school for most of the day. A vacant house that may have less security could be an easier target for criminals. Relating to something that was pointed out earlier, crime is more likely to happen in areas that are open to the public. This is shown here, as many apartment buildings may not have security measures, especially in areas where crime is more likely to occur. Parking lots, streets, roadways, and sidewalks are also generally open to the public at all times as well, and crime may be committed on premises like these at any time of the day, especially with a lack of security."
   ]
  },
  {
   "cell_type": "markdown",
   "id": "daf4acc3",
   "metadata": {},
   "source": [
    "Next, I will examine the different types of crimes that happen on some of these premises and see if there is any pattern."
   ]
  },
  {
   "cell_type": "markdown",
   "id": "ecb5e6d4",
   "metadata": {},
   "source": [
    "### Single Family House Crimes Counts"
   ]
  },
  {
   "cell_type": "code",
   "execution_count": 25,
   "id": "cfcf8a33",
   "metadata": {
    "scrolled": true
   },
   "outputs": [
    {
     "data": {
      "text/plain": [
       "BURGLARY                                 28431\n",
       "LARCENY-THEFT                            25185\n",
       "AGGRAVATED ASSAULT                        9198\n",
       "MOTOR VEHICLE THEFT                       6931\n",
       "RAPE                                      2367\n",
       "DRUG OFFENSE                              2263\n",
       "ROBBERY                                    726\n",
       "ARSON                                      506\n",
       "MURDER AND NON-NEGLIGENT MANSLAUGHTER      245\n",
       "Name: CRIME_CATEGORY, dtype: int64"
      ]
     },
     "execution_count": 25,
     "metadata": {},
     "output_type": "execute_result"
    }
   ],
   "source": [
    "crime[crime['PREMISE_TYPE'] == 'SINGLE FAMILY HOUSE'].CRIME_CATEGORY.value_counts()"
   ]
  },
  {
   "cell_type": "code",
   "execution_count": 26,
   "id": "8953eb95",
   "metadata": {},
   "outputs": [
    {
     "data": {
      "text/plain": [
       "Text(0, 0.5, 'Number of Crimes Reported')"
      ]
     },
     "execution_count": 26,
     "metadata": {},
     "output_type": "execute_result"
    },
    {
     "data": {
      "image/png": "[encoded data removed]",
      "text/plain": [
       "<Figure size 432x288 with 1 Axes>"
      ]
     },
     "metadata": {
      "needs_background": "light"
     },
     "output_type": "display_data"
    }
   ],
   "source": [
    "plt6 = crime[crime['PREMISE_TYPE'] == 'SINGLE FAMILY HOUSE'].CRIME_CATEGORY.value_counts().plot.bar()\n",
    "plt6.set_title('Crimes Reported That Occurred In Single Family Houses In Phoenix')\n",
    "plt6.set_xlabel('Crimes')\n",
    "plt6.set_ylabel('Number of Crimes Reported')"
   ]
  },
  {
   "cell_type": "markdown",
   "id": "f582569e",
   "metadata": {},
   "source": [
    "### Apartment Crime Counts"
   ]
  },
  {
   "cell_type": "code",
   "execution_count": 27,
   "id": "c41b2aa7",
   "metadata": {
    "scrolled": false
   },
   "outputs": [
    {
     "data": {
      "text/plain": [
       "LARCENY-THEFT                            25920\n",
       "MOTOR VEHICLE THEFT                      13907\n",
       "BURGLARY                                 12649\n",
       "AGGRAVATED ASSAULT                       11998\n",
       "DRUG OFFENSE                              2500\n",
       "RAPE                                      2076\n",
       "ROBBERY                                   1185\n",
       "ARSON                                      271\n",
       "MURDER AND NON-NEGLIGENT MANSLAUGHTER      242\n",
       "Name: CRIME_CATEGORY, dtype: int64"
      ]
     },
     "execution_count": 27,
     "metadata": {},
     "output_type": "execute_result"
    }
   ],
   "source": [
    "crime[crime['PREMISE_TYPE'] == 'APARTMENT'].CRIME_CATEGORY.value_counts()"
   ]
  },
  {
   "cell_type": "code",
   "execution_count": 28,
   "id": "2f2e8970",
   "metadata": {},
   "outputs": [
    {
     "data": {
      "text/plain": [
       "Text(0, 0.5, 'Number of Crimes Reported')"
      ]
     },
     "execution_count": 28,
     "metadata": {},
     "output_type": "execute_result"
    },
    {
     "data": {
      "image/png": "[encoded data removed]",
      "text/plain": [
       "<Figure size 432x288 with 1 Axes>"
      ]
     },
     "metadata": {
      "needs_background": "light"
     },
     "output_type": "display_data"
    }
   ],
   "source": [
    "plt7 = crime[crime['PREMISE_TYPE'] == 'APARTMENT'].CRIME_CATEGORY.value_counts().plot.bar()\n",
    "plt7.set_title('Crimes Reported That Occurred In Apartments In Phoenix')\n",
    "plt7.set_xlabel('Crimes')\n",
    "plt7.set_ylabel('Number of Crimes Reported')"
   ]
  },
  {
   "cell_type": "markdown",
   "id": "82ab888e",
   "metadata": {},
   "source": [
    "### Parking Lot Crime Counts"
   ]
  },
  {
   "cell_type": "code",
   "execution_count": 29,
   "id": "f9c4356b",
   "metadata": {
    "scrolled": true
   },
   "outputs": [
    {
     "data": {
      "text/plain": [
       "LARCENY-THEFT                            23615\n",
       "MOTOR VEHICLE THEFT                       8181\n",
       "DRUG OFFENSE                              6946\n",
       "ROBBERY                                   3152\n",
       "AGGRAVATED ASSAULT                        1387\n",
       "ARSON                                      228\n",
       "RAPE                                       204\n",
       "MURDER AND NON-NEGLIGENT MANSLAUGHTER      194\n",
       "BURGLARY                                   162\n",
       "Name: CRIME_CATEGORY, dtype: int64"
      ]
     },
     "execution_count": 29,
     "metadata": {},
     "output_type": "execute_result"
    }
   ],
   "source": [
    "crime[crime['PREMISE_TYPE'] == 'PARKING LOT'].CRIME_CATEGORY.value_counts()"
   ]
  },
  {
   "cell_type": "code",
   "execution_count": 30,
   "id": "f977630b",
   "metadata": {},
   "outputs": [
    {
     "data": {
      "text/plain": [
       "Text(0, 0.5, 'Number of Crimes Reported')"
      ]
     },
     "execution_count": 30,
     "metadata": {},
     "output_type": "execute_result"
    },
    {
     "data": {
      "image/png": "[encoded data removed]",
      "text/plain": [
       "<Figure size 432x288 with 1 Axes>"
      ]
     },
     "metadata": {
      "needs_background": "light"
     },
     "output_type": "display_data"
    }
   ],
   "source": [
    "plt8 = crime[crime['PREMISE_TYPE'] == 'PARKING LOT'].CRIME_CATEGORY.value_counts().plot.bar()\n",
    "plt8.set_title('Crimes Reported That Occurred In Parking Lots In Phoenix')\n",
    "plt8.set_xlabel('Crimes')\n",
    "plt8.set_ylabel('Number of Crimes Reported')"
   ]
  },
  {
   "cell_type": "markdown",
   "id": "252e8fea",
   "metadata": {},
   "source": [
    "### Street, Roadway, Sidewalk Crime Counts"
   ]
  },
  {
   "cell_type": "code",
   "execution_count": 31,
   "id": "c6b27b05",
   "metadata": {
    "scrolled": true
   },
   "outputs": [
    {
     "data": {
      "text/plain": [
       "LARCENY-THEFT                            9873\n",
       "MOTOR VEHICLE THEFT                      6449\n",
       "AGGRAVATED ASSAULT                       5930\n",
       "DRUG OFFENSE                             5628\n",
       "ROBBERY                                  1780\n",
       "MURDER AND NON-NEGLIGENT MANSLAUGHTER     173\n",
       "RAPE                                      131\n",
       "ARSON                                      99\n",
       "BURGLARY                                   17\n",
       "Name: CRIME_CATEGORY, dtype: int64"
      ]
     },
     "execution_count": 31,
     "metadata": {},
     "output_type": "execute_result"
    }
   ],
   "source": [
    "crime[crime['PREMISE_TYPE'] == 'STREET / ROADWAY / SIDEWALK'].CRIME_CATEGORY.value_counts()"
   ]
  },
  {
   "cell_type": "code",
   "execution_count": 32,
   "id": "b5fc6b20",
   "metadata": {},
   "outputs": [
    {
     "data": {
      "text/plain": [
       "Text(0, 0.5, 'Number of Crimes Reported')"
      ]
     },
     "execution_count": 32,
     "metadata": {},
     "output_type": "execute_result"
    },
    {
     "data": {
      "image/png": "[encoded data removed]",
      "text/plain": [
       "<Figure size 432x288 with 1 Axes>"
      ]
     },
     "metadata": {
      "needs_background": "light"
     },
     "output_type": "display_data"
    }
   ],
   "source": [
    "plt9 = crime[crime['PREMISE_TYPE'] == 'STREET / ROADWAY / SIDEWALK'].CRIME_CATEGORY.value_counts().plot.bar()\n",
    "plt9.set_title('Crimes Reported That Occurred On Streets, Roadways, and Sidewalks In Phoenix')\n",
    "plt9.set_xlabel('Crimes')\n",
    "plt9.set_ylabel('Number of Crimes Reported')"
   ]
  },
  {
   "cell_type": "markdown",
   "id": "96844444",
   "metadata": {},
   "source": [
    "Larceny-theft is the crime that occurs the most in these four different premise types besides single family homes. The crime that occurred most in a single family home was burglary. As I mentioned before, a single family house will tend to have more valuable items that a criminal would want to steal, causing a criminal to need to break into a home to commit this crime. Motor vehicle theft is also common amongst apartment buildings, parking lots, and streets. I believe that this makes sense, as motor vehicles are likely to be outside for these types of premises. This would allow a criminal to snoop around these premises, looking for vehicles that have not been locked or have valuable items inside. This data and analysis, consumed by a police force or someone looking to not have crimes committed against them, can be used as valuable information as to what to look out for so that they can prevent crime."
   ]
  },
  {
   "cell_type": "markdown",
   "id": "48cb09c0",
   "metadata": {},
   "source": [
    "## Final Thoughts:"
   ]
  },
  {
   "cell_type": "markdown",
   "id": "a6b8b943",
   "metadata": {},
   "source": [
    "Some of the findings present in this report coincide with the current understanding of crime rates and how/why crime is more likely to occur. I found it interesting how my hunch that less crime may occur during the schorching hot summers of Phoenix was backed by this data. Although this data does not tell the whole story, it allows for more research questions to be asked. This will allow more expansive data to be collected, which will expand our knowledge of crime in the region. These findings and their implications can help law enforcement crack down on crime. However, that really begs the question of 'does more law enforcement prevent crime?'. This has been a somewhat polarizing question in the past few years, with many believing that law enforcement should be defunded or outright abolished. A recent study on this topic indicated that 10 to 17 new cops would need to be hired to save one more life a year in some areas (Rosalsky, 2021). This study only looked into one type of violent crime, that being homicide. I believe that this indicates that there is much more a grey area as to why crime happens and how to prevent it. As was mentioned multiple times earlier, areas with lower income are more likely to experience higher crime rates. While I do think increases surveillance could help prevent crime and catch the criminals that commit these crimes, programs and services should be implemented to build up these communities, instead of just purely adding more law enforcement."
   ]
  },
  {
   "cell_type": "markdown",
   "id": "942876bb",
   "metadata": {},
   "source": [
    "### References:"
   ]
  },
  {
   "cell_type": "markdown",
   "id": "ea0eb458",
   "metadata": {},
   "source": [
    "CASES (2024). *Neighborhood-based Services*. https://www.cases.org/neighborhood-based/#:~:text=1%20Income%20also%20plays%20a,low%2Dincome%20victims%20are%20violent. "
   ]
  },
  {
   "cell_type": "markdown",
   "id": "283e2516",
   "metadata": {},
   "source": [
    "McGoey, C.E. (2023). Crime Doctor. *Crime Risk Factor – Nature of the Premises*. https://crimedoctor.com/crime-risk-factor-nature-of-the-premises/"
   ]
  },
  {
   "cell_type": "markdown",
   "id": "874b9481",
   "metadata": {},
   "source": [
    "National Reeentry Resource Center (2024). *Seasonal Patterns in Criminal Victimization Trends*. https://nationalreentryresourcecenter.org/resources/seasonal-patterns-criminal-victimization-trends#:~:text=Aggravated%20assault%20rates%20are%20highest,do%20not%20have%20seasonal%20variations."
   ]
  },
  {
   "cell_type": "markdown",
   "id": "8fd9876d",
   "metadata": {},
   "source": [
    "Rosalsky, G. (2021). NPR. *When You Add More Police To A City, What Happens?* https://www.npr.org/sections/money/2021/04/20/988769793/when-you-add-more-police-to-a-city-what-happens"
   ]
  }
 ],
 "metadata": {
  "kernelspec": {
   "display_name": "Python 3 (ipykernel)",
   "language": "python",
   "name": "python3"
  },
  "language_info": {
   "codemirror_mode": {
    "name": "ipython",
    "version": 3
   },
   "file_extension": ".py",
   "mimetype": "text/x-python",
   "name": "python",
   "nbconvert_exporter": "python",
   "pygments_lexer": "ipython3",
   "version": "3.9.7"
  }
 },
 "nbformat": 4,
 "nbformat_minor": 5
}
