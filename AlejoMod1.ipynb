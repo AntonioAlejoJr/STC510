{
  "nbformat": 4,
  "nbformat_minor": 0,
  "metadata": {
    "colab": {
      "provenance": [],
      "authorship_tag": "ABX9TyNkQd86exIYGjaJ+PTQ+GXg",
      "include_colab_link": true
    },
    "kernelspec": {
      "name": "python3",
      "display_name": "Python 3"
    },
    "language_info": {
      "name": "python"
    }
  },
  "cells": [
    {
      "cell_type": "markdown",
      "metadata": {
        "id": "view-in-github",
        "colab_type": "text"
      },
      "source": [
        "<a href=\"https://colab.research.google.com/github/AntonioAlejoJr/AntonioAlejoJr/blob/main/AlejoMod1.ipynb\" target=\"_parent\"><img src=\"https://colab.research.google.com/assets/colab-badge.svg\" alt=\"Open In Colab\"/></a>"
      ]
    },
    {
      "cell_type": "markdown",
      "source": [
        "**Antonio Alejo Module 1 Python for Data Wrangling Basics**"
      ],
      "metadata": {
        "id": "wTQGAp_wYEqG"
      }
    },
    {
      "cell_type": "code",
      "execution_count": 1,
      "metadata": {
        "id": "5z3NdXgrX1ye"
      },
      "outputs": [],
      "source": [
        "#!pip install praw"
      ]
    },
    {
      "cell_type": "code",
      "source": [
        "import asyncpraw\n",
        "import praw"
      ],
      "metadata": {
        "id": "w-nFGVA_YRI-"
      },
      "execution_count": 2,
      "outputs": []
    },
    {
      "cell_type": "code",
      "source": [
        "uname = 'tonyalejo33'\n",
        "upass = 'Isabella1!'\n",
        "app_id = '01r6wDLQmUWdHwnUaExo9w'\n",
        "app_secret = 'hD_FJs6KSanhWiP-CKFqmPZInvNlSg'"
      ],
      "metadata": {
        "id": "cG2t2E3SYUNE"
      },
      "execution_count": 3,
      "outputs": []
    },
    {
      "cell_type": "code",
      "source": [
        "reddit = asyncpraw.Reddit(user_agent = 'Heat in PHX (by /u/tonyalejo33)',\n",
        "                     client_id = app_id, client_secret = app_secret,\n",
        "                     username = uname, password = upass, check_for_async = False)"
      ],
      "metadata": {
        "id": "Z-QLCD8TYvhU"
      },
      "execution_count": 4,
      "outputs": []
    },
    {
      "cell_type": "code",
      "source": [
        "subreddit = await reddit.subreddit('Phoenix', fetch = True)"
      ],
      "metadata": {
        "id": "5jm-VHNcZUvy"
      },
      "execution_count": 5,
      "outputs": []
    },
    {
      "cell_type": "code",
      "source": [
        "async for submission in subreddit.hot(limit = 10):\n",
        "  print(submission.title)"
      ],
      "metadata": {
        "colab": {
          "base_uri": "https://localhost:8080/"
        },
        "id": "nSw9M7mvZcZV",
        "outputId": "5165d00b-9301-47d0-fecb-7b3d249ffd9d"
      },
      "execution_count": 6,
      "outputs": [
        {
          "output_type": "stream",
          "name": "stdout",
          "text": [
            "/r/Phoenix daily chat - Tuesday, Feb 20\n",
            "Visiting Phoenix? Ask your questions for the locals here! (Feb)\n",
            "Diamondbacks don't rule out moving without public funding for renovations: 'We may run out of time in Phoenix'\n",
            "GOP Sen. Jake Hoffman threatens to kill ADOT. You won't believe why\n",
            "Will blowing insulation onto garage attic floor still result in summer temp decrease despite parking cars there that will trap heat?\n",
            "NYC hotel slay suspect nabbed after stabbing 2 women in Phoenix\n",
            "Arizona Republicans call basic income payments 'unearned,' introduce a bill to ban them\n",
            "What’s a nice lowkey restaurant in Phoenix\n",
            "RIP Cha Cha’s </3\n",
            "State regulators to vote on APS rate hike this week\n"
          ]
        }
      ]
    },
    {
      "cell_type": "code",
      "source": [
        "topiclist = []\n",
        "async for submission in subreddit.new(limit = 7):\n",
        "  topiclist.append(submission.id)"
      ],
      "metadata": {
        "id": "sqQAfEVRgwA2"
      },
      "execution_count": 7,
      "outputs": []
    },
    {
      "cell_type": "code",
      "source": [
        "topiclist"
      ],
      "metadata": {
        "colab": {
          "base_uri": "https://localhost:8080/"
        },
        "id": "fn-XcQjThHbE",
        "outputId": "24c54956-6d2f-4735-b8dd-b03bd0994b79"
      },
      "execution_count": 8,
      "outputs": [
        {
          "output_type": "execute_result",
          "data": {
            "text/plain": [
              "['1avnc8a', '1avmtyt', '1avmtel', '1avlx9m', '1avlwj3', '1avll02', '1avjvnl']"
            ]
          },
          "metadata": {},
          "execution_count": 8
        }
      ]
    },
    {
      "cell_type": "code",
      "source": [
        "from time import sleep"
      ],
      "metadata": {
        "id": "AiSntwQOnnSY"
      },
      "execution_count": 15,
      "outputs": []
    },
    {
      "cell_type": "code",
      "source": [
        "with open('subfile.csv', 'w') as subfile, open('comfile.csv', 'w') as comfile:\n",
        "  for eachtopic in topiclist:\n",
        "\n",
        "    sleep(2)\n",
        "    submission = await reddit.submission(eachtopic)\n",
        "\n",
        "    lineout = eachtopic + ',\"'\n",
        "    lineout += submission.title + '\",'\n",
        "    lineout += submission.author.name + ','\n",
        "    lineout += str(submission.created_utc) + ','\n",
        "    lineout += str(submission.score) + '\\n'\n",
        "\n",
        "    print(lineout)\n",
        "    subfile.write(lineout)\n",
        "\n",
        "    submission.comments.replace_more(limit = None)\n",
        "    commentlist = submission.comments.list()\n",
        "\n",
        "    for eachcomment in commentlist:\n",
        "\n",
        "      sleep(1)\n",
        "\n",
        "      lineout = eachcomment.id + ',\"'\n",
        "      lineout += eachcomment.body.replace('\\n','/') + '\",'\n",
        "\n",
        "      if not eachcomment.author:\n",
        "        name = 'NoName'\n",
        "      else:\n",
        "        name = eachcomment.author.name\n",
        "      lineout += name + ','\n",
        "\n",
        "\n",
        "      lineout += str(eachcomment.created_utc) + ','\n",
        "      lineout += str(eachcomment.score) + ','\n",
        "      lineout += eachcomment.parent_id + ','\n",
        "      lineout += eachtopic + '\\n'\n",
        "\n",
        "      #print(lineout)\n",
        "      comfile.write(lineout)"
      ],
      "metadata": {
        "colab": {
          "base_uri": "https://localhost:8080/"
        },
        "id": "Cx_g5TS0hY-y",
        "outputId": "8b756c82-b6fd-4190-f716-d0e6c163f351"
      },
      "execution_count": 19,
      "outputs": [
        {
          "output_type": "stream",
          "name": "stdout",
          "text": [
            "1avnc8a,\"RIP Cha Cha’s </3\",B1gm4cs4uc3,1708450114.0,8\n",
            "\n"
          ]
        },
        {
          "output_type": "stream",
          "name": "stderr",
          "text": [
            "<ipython-input-19-8ae53ca17753>:16: RuntimeWarning: coroutine 'CommentForest.replace_more' was never awaited\n",
            "  submission.comments.replace_more(limit = None)\n",
            "RuntimeWarning: Enable tracemalloc to get the object allocation traceback\n"
          ]
        },
        {
          "output_type": "stream",
          "name": "stdout",
          "text": [
            "krbi90e,\"Thanks for contributing to r/Phoenix! //* [Check out our sub rules here](https://www.reddit.com/r/phoenix/wiki/rules/) (mostly be nice to each other!). /* [Read some of our recent posts](https://www.reddit.com/r/phoenix/top/?t=week) and leave some comments.  /* [Join our Phoenix Discord chat server](https://discord.com/invite/yWVuTG57Zh) and connect with people in the Valley. It's a great, chill place to talk with other people but is NOT a dating server and takes unwanted messaging very seriously.  ///*I am a bot, and this action was performed automatically. Please [contact the moderators of this subreddit](/message/compose/?to=/r/phoenix) if you have any questions or concerns.*\",AutoModerator,1708450114.0,1,t3_1avnc8a,1avnc8a\n",
            "\n",
            "krbjpjo,\"Whaaaattt?? What happened? I love going there for matcha.\",sunkistt16,1708450593.0,1,t3_1avnc8a,1avnc8a\n",
            "\n",
            "krbmuv0,\"Ive never heard of Cha Cha’s but I didn’t expect it to be a tea lounge\",Whit3boy316,1708451637.0,1,t3_1avnc8a,1avnc8a\n",
            "\n",
            "krbl3yt,\"They also started to sell “Kratom infused” teas which I haven’t heard of before and seemed odd.\",XblZephria,1708451057.0,1,t3_1avnc8a,1avnc8a\n",
            "\n",
            "krbk3lr,\"From what ive gathered, new ownership started several months back and has been slowly changing things for the worse! The last update I noticed today is that their instagram page is labeled as “permanently closed” and i think they changed the shop name to “Meraki”. Check out their latest google and yelp reviews for the tea. It’s so sad\",B1gm4cs4uc3,1708450722.0,1,t1_krbjpjo,1avnc8a\n",
            "\n",
            "krbkaml,\"Here’s a link go the google reviews [Cha Cha’s google reviews](https://www.google.com/search?client=safari&sca_esv=c5fb69bdefab0649&hl=en-us&q=cha+chas+tea+lounge+reviews&uds=AMwkrPsx0IFv-8NlrJQEBKxBNT7-7K07N-o7KNA79QDhC6hztuEyLm1GdlC1l14HFm9NV9cDPBbvuwRazHegYVIabvVaCflymKyzuExn7IAwke60X450QAur6LOgMnpNQwPvf8BmQJ3g2bvXdtK8DbAlBqaBgL4tKsg9qvFtoeQCVwAo2LmuaX2diYaYbWxWK5EPon5SIWeJlzMPlyGLRqh-DeSxHWRUMmXM5hU635xAJrjFp8_SwpRnElESuuI99FkgHahM3_2t2GdhZUHkpPkGxUy2FOyKo93LkJERNQxfWh4auuYGGaZWCQFXs_UoQ45YWupNVptbLu6Zl0sbazByu9A3dZZLu8WXvvHBrV1KOdHjTq-eSW5aqsBzjWpWdqh39EmDYWiGK9rXBvhu-EwZ7POxu7hyFQ&si=AKbGX_oXOTjHK3vNPxrwAU4tsC2W_rsdJDrrSHpqUAOdbOh1q2DV4XUIKd1x711kufC1oyvE92cBflsnBPIFGuO9f09Jhj26oi0UK8dGqGZVovpW9Q6bJ6ffKb-8-OKNIZ3vGJuwsIvxmCRJa26pB8SGXyFAgQ__GQ%3D%3D&sa=X&ictx=1&lei=6d7UZcqKJPj7kPIP7sqD4Ak)\",B1gm4cs4uc3,1708450786.0,1,t1_krbjpjo,1avnc8a\n",
            "\n",
            "krbl55g,\"Ughhh what a shame! So sad\",sunkistt16,1708451068.0,1,t1_krbkaml,1avnc8a\n",
            "\n",
            "1avmtyt,\"Local *DECAF* coffee recommendations\",TacticalSnitten,1708448934.0,0\n",
            "\n",
            "krbepkj,\"Thanks for contributing to r/Phoenix! //* [Check out our sub rules here](https://www.reddit.com/r/phoenix/wiki/rules/) (mostly be nice to each other!). /* [Read some of our recent posts](https://www.reddit.com/r/phoenix/top/?t=week) and leave some comments.  /* [Join our Phoenix Discord chat server](https://discord.com/invite/yWVuTG57Zh) and connect with people in the Valley. It's a great, chill place to talk with other people but is NOT a dating server and takes unwanted messaging very seriously.  ///*I am a bot, and this action was performed automatically. Please [contact the moderators of this subreddit](/message/compose/?to=/r/phoenix) if you have any questions or concerns.*\",AutoModerator,1708448934.0,1,t3_1avmtyt,1avmtyt\n",
            "\n",
            "krbgeev,\"The Roastery of Cave Creek has a great selection.\",cturtl808,1708449501.0,1,t3_1avmtyt,1avmtyt\n",
            "\n",
            "1avmtel,\"Drinking events for St Patrick's Day\",hxles1,1708448897.0,1\n",
            "\n",
            "krbelod,\"Thanks for contributing to r/Phoenix! //* [Check out our sub rules here](https://www.reddit.com/r/phoenix/wiki/rules/) (mostly be nice to each other!). /* [Read some of our recent posts](https://www.reddit.com/r/phoenix/top/?t=week) and leave some comments.  /* [Join our Phoenix Discord chat server](https://discord.com/invite/yWVuTG57Zh) and connect with people in the Valley. It's a great, chill place to talk with other people but is NOT a dating server and takes unwanted messaging very seriously.  ///*I am a bot, and this action was performed automatically. Please [contact the moderators of this subreddit](/message/compose/?to=/r/phoenix) if you have any questions or concerns.*\",AutoModerator,1708448897.0,1,t3_1avmtel,1avmtel\n",
            "\n",
            "1avlx9m,\"Line Dancing bars around Phoenix?\",JustSomeFarmer,1708446781.0,2\n",
            "\n",
            "krb8bog,\"Thanks for contributing to r/Phoenix! //* [Check out our sub rules here](https://www.reddit.com/r/phoenix/wiki/rules/) (mostly be nice to each other!). /* [Read some of our recent posts](https://www.reddit.com/r/phoenix/top/?t=week) and leave some comments.  /* [Join our Phoenix Discord chat server](https://discord.com/invite/yWVuTG57Zh) and connect with people in the Valley. It's a great, chill place to talk with other people but is NOT a dating server and takes unwanted messaging very seriously.  ///*I am a bot, and this action was performed automatically. Please [contact the moderators of this subreddit](/message/compose/?to=/r/phoenix) if you have any questions or concerns.*\",AutoModerator,1708446781.0,1,t3_1avlx9m,1avlx9m\n",
            "\n",
            "krbbhwz,\"Handlebar J's in Scottsdale. Harolds and the Buffalo Chip in Cave Creek. I know there are a few on the west side but thats not my area of expertise.\",L_Ron_Mexico_7,1708447853.0,1,t3_1avlx9m,1avlx9m\n",
            "\n",
            "krbbjrw,\"The Stillery in downtown Chandler fits the description. They have a location just off Broadway in Nashville and I believe the Chandler location was their first venture outside of Nashville. //Definitely has Nashville vibes, good live music, line dancing, good food, and most of the outer walls are garage doors so you get to enjoy the weather if you’re inside or outside.\",brando0212,1708447870.0,1,t3_1avlx9m,1avlx9m\n",
            "\n",
            "krbl0mp,\"Charlie's is a gay bar that does line dancing and two stepping on Thursdays and Saturdays. Central Phoenix off camelback and 7th Ave.\",brywithered,1708451026.0,1,t3_1avlx9m,1avlx9m\n",
            "\n",
            "krbd4rz,\"Handlebar Js more in town. Buffalo chip in Carefree/Cave Creek has bull riding Fridays and that combined with Harold’s next door for dancing is a fun western evening. Roadrunner up I-17 also does bull riding but on Saturday and has live bands weekends. It’s my favorite but it’s kinda far out of town.\",Opening-Ad1857,1708448401.0,1,t3_1avlx9m,1avlx9m\n",
            "\n",
            "1avlwj3,\"NYC hotel slay suspect nabbed after stabbing 2 women in Phoenix\",ValleyGrouch,1708446728.0,8\n",
            "\n",
            "krb864w,\"Thanks for contributing to r/Phoenix! //* [Check out our sub rules here](https://www.reddit.com/r/phoenix/wiki/rules/) (mostly be nice to each other!). /* [Read some of our recent posts](https://www.reddit.com/r/phoenix/top/?t=week) and leave some comments.  /* [Join our Phoenix Discord chat server](https://discord.com/invite/yWVuTG57Zh) and connect with people in the Valley. It's a great, chill place to talk with other people but is NOT a dating server and takes unwanted messaging very seriously.  ///*I am a bot, and this action was performed automatically. Please [contact the moderators of this subreddit](/message/compose/?to=/r/phoenix) if you have any questions or concerns.*\",AutoModerator,1708446728.0,1,t3_1avlwj3,1avlwj3\n",
            "\n",
            "1avll02,\"What to do!\",Tough-Net87,1708445960.0,1\n",
            "\n",
            "krb5xcn,\"Thanks for contributing to r/Phoenix! //* [Check out our sub rules here](https://www.reddit.com/r/phoenix/wiki/rules/) (mostly be nice to each other!). /* [Read some of our recent posts](https://www.reddit.com/r/phoenix/top/?t=week) and leave some comments.  /* [Join our Phoenix Discord chat server](https://discord.com/invite/yWVuTG57Zh) and connect with people in the Valley. It's a great, chill place to talk with other people but is NOT a dating server and takes unwanted messaging very seriously.  ///*I am a bot, and this action was performed automatically. Please [contact the moderators of this subreddit](/message/compose/?to=/r/phoenix) if you have any questions or concerns.*\",AutoModerator,1708445961.0,1,t3_1avll02,1avll02\n",
            "\n",
            "krb5xdx,\"It looks like this post is about visiting the Valley, so wanted to suggest you check out our dedicated threads on this topic, and search the subreddit for answers to common questions.//You can search past posts for [Things To Do](https://www.reddit.com/r/phoenix/search?q=flair_name%3A%22Things%20To%20Do%22&restrict_sr=1&sort=new) to explore the area, [Places to Eat](https://www.reddit.com/r/phoenix/search?sort=new&restrict_sr=on&q=flair%3AEat%2B%26%2BDrink) to try some amazing local food, or [Outdoors](https://www.reddit.com/r/phoenix/search?q=flair_name%3A%22Outdoors%22&restrict_sr=1&sort=new) if you're wanting to check out some trails and hikes. //We also have a monthly thread just for [Visiting questions](https://www.reddit.com/r/phoenix/search?q=flair_name%3A%22Visiting%22&restrict_sr=1&sort=new) that you can post in. You can also search the sub for all sorts of great discussions and ideas, or ask questions in our [Daily Chat](https://www.reddit.com/r/phoenix/search?q=flair_name%3A%22Daily%20Chat%22&restrict_sr=1&sort=new) thread. //Our automoderator isn't perfect so if this wasn't what you were asking, just ignore this comment. We just try to leave these links to help people out.///*I am a bot, and this action was performed automatically. Please [contact the moderators of this subreddit](/message/compose/?to=/r/phoenix) if you have any questions or concerns.*\",AutoModerator,1708445961.0,1,t3_1avll02,1avll02\n",
            "\n",
            "krb91fq,\"The Children's Museum /Botanical Garden /Zoo/Fry Bread House /Flagstaff /Sedona\",scooby946,1708447022.0,1,t3_1avll02,1avll02\n",
            "\n",
            "krba0rj,\"Amazing weather for the zoo.//Check out leo and luca in uptown for indoor play for the little ones. Childrens museum is great and less walking than the zoo for the expectant mother\",Easy-Seesaw285,1708447356.0,1,t3_1avll02,1avll02\n",
            "\n",
            "krbfgia,\"Jordans corner in North Scottsdale/Vibe box for a little bit of local shopping (new and SO cute) 32/ Thunderbird /Uptown market, Wednesdays and Saturdays in central Phoenix is always a good time, or there’s a smaller market at roadrunner park on cactus. /🫶🏻\",Donteven_k,1708449186.0,1,t3_1avll02,1avll02\n",
            "\n",
            "krb6edc,\"could go north to the canyon\",MaShinKotoKai,1708446122.0,1,t3_1avll02,1avll02\n",
            "\n",
            "krbf7tr,\"Butterfly exhibit, anthem park - can ride the train and have playground for younger children, Isabella’s is a good place to eat with a grass field for kids to run around and its fenced in, kids are young hard ages at that point, hit up the free splash pads in Scottsdale quarter etc\",After_Respect2950,1708449105.0,1,t3_1avll02,1avll02\n",
            "\n",
            "krbfafg,\"Butterfly Wonderland\",Level-Variety9281,1708449129.0,1,t3_1avll02,1avll02\n",
            "\n",
            "1avjvnl,\"Talking Stick Amphitheater seating\",Ill-Satisfaction-761,1708441775.0,1\n",
            "\n",
            "krb2alf,\"You can rent a chair but the lawn seating is just an open grassy area. I stood the whole time I was there.\",mctaylo89,1708444710.0,1,t3_1avjvnl,1avjvnl\n",
            "\n",
            "krb5i02,\"Unless it has changed, reserved lawn seating is actually general admission on the entire lawn. There's no set seating. //They might be doing something new that I don't know about though//You can bring your own low chair and blanket and stuff. Specifics are on the website.\",boogermike,1708445812.0,1,t3_1avjvnl,1avjvnl\n",
            "\n",
            "krb6wvn,\"You can only rent a lawn chair for certain artists, also.\",EreeB1991,1708446299.0,1,t3_1avjvnl,1avjvnl\n",
            "\n"
          ]
        }
      ]
    }
  ]
}